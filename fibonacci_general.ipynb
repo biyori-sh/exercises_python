{
 "cells": [
  {
   "cell_type": "code",
   "execution_count": 1,
   "metadata": {
    "ExecuteTime": {
     "end_time": "2020-04-22T07:43:42.529114Z",
     "start_time": "2020-04-22T07:43:42.513449Z"
    }
   },
   "outputs": [],
   "source": [
    "def fibonacci_general (nth, list_init_values):\n",
    "    \"\"\"\n",
    "    Calculate a nth general fibonacci number F_n defined in\n",
    "    F_n = F_{n-1} + F_{n-2} + ... + F_{n-k}.\n",
    "    The number k is given by the length of list_init_values\n",
    "    which is a list of k initial values, [F_0, F_1, ..., F_k].\n",
    "    \"\"\"\n",
    "    num_preceding = len(list_init_values)\n",
    "    list_fibonacci = []\n",
    "    \n",
    "    list_fibonacci.extend(list_init_values)\n",
    "    \n",
    "    while (nth >= len(list_fibonacci)):\n",
    "        list_fibonacci.append(sum(list_fibonacci[-num_preceding: ]))\n",
    "    \n",
    "    return list_fibonacci[nth]\n",
    "\n",
    "def fibonacci_3 (nth):\n",
    "    return fibonacci_general(nth, [0,0,1])"
   ]
  },
  {
   "cell_type": "code",
   "execution_count": 2,
   "metadata": {
    "ExecuteTime": {
     "end_time": "2020-04-22T07:43:44.764993Z",
     "start_time": "2020-04-22T07:43:44.731950Z"
    }
   },
   "outputs": [
    {
     "data": {
      "text/plain": [
       "81"
      ]
     },
     "execution_count": 2,
     "metadata": {},
     "output_type": "execute_result"
    }
   ],
   "source": [
    "fibonacci_3(10)"
   ]
  },
  {
   "cell_type": "code",
   "execution_count": 3,
   "metadata": {
    "ExecuteTime": {
     "end_time": "2020-04-22T07:43:46.943606Z",
     "start_time": "2020-04-22T07:43:46.916688Z"
    }
   },
   "outputs": [
    {
     "data": {
      "text/plain": [
       "56"
      ]
     },
     "execution_count": 3,
     "metadata": {},
     "output_type": "execute_result"
    }
   ],
   "source": [
    "fibonacci_general(10, [0,0,0,1])"
   ]
  },
  {
   "cell_type": "code",
   "execution_count": null,
   "metadata": {},
   "outputs": [],
   "source": []
  }
 ],
 "metadata": {
  "kernelspec": {
   "display_name": "venv35",
   "language": "python",
   "name": "venv35"
  },
  "language_info": {
   "codemirror_mode": {
    "name": "ipython",
    "version": 3
   },
   "file_extension": ".py",
   "mimetype": "text/x-python",
   "name": "python",
   "nbconvert_exporter": "python",
   "pygments_lexer": "ipython3",
   "version": "3.5.2"
  }
 },
 "nbformat": 4,
 "nbformat_minor": 2
}
